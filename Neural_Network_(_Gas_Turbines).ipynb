{
  "nbformat": 4,
  "nbformat_minor": 0,
  "metadata": {
    "colab": {
      "provenance": []
    },
    "kernelspec": {
      "name": "python3",
      "display_name": "Python 3"
    },
    "language_info": {
      "name": "python"
    }
  },
  "cells": [
    {
      "cell_type": "markdown",
      "source": [
        "## Neural_Network_GasTurbines \n",
        "\n",
        "The dataset contains 36733 instances of 11 sensor measures aggregated over one hour (by means of average or sum) from a gas turbine.\n",
        "The Dataset includes gas turbine parameters (such as Turbine Inlet Temperature and Compressor Discharge pressure) in addition to the ambient variables.\n",
        "\n",
        "\n",
        "\n",
        "Problem statement: predicting turbine energy yield (TEY) using ambient variables as features.\n",
        "\n",
        "\n",
        "Attribute Information:\n",
        "The explanations of sensor measurements and their brief statistics are given below.\n",
        "\n",
        "Variable (Abbr.) Unit Min Max Mean\n",
        "Ambient temperature (AT) C â€“6.23 37.10 17.71\n",
        "Ambient pressure (AP) mbar 985.85 1036.56 1013.07\n",
        "Ambient humidity (AH) (%) 24.08 100.20 77.87\n",
        "Air filter difference pressure (AFDP) mbar 2.09 7.61 3.93\n",
        "Gas turbine exhaust pressure (GTEP) mbar 17.70 40.72 25.56\n",
        "Turbine inlet temperature (TIT) C 1000.85 1100.89 1081.43\n",
        "Turbine after temperature (TAT) C 511.04 550.61 546.16\n",
        "Compressor discharge pressure (CDP) mbar 9.85 15.16 12.06\n",
        "Turbine energy yield (TEY) MWH 100.02 179.50 133.51\n",
        "Carbon monoxide (CO) mg/m3 0.00 44.10 2.37\n",
        "Nitrogen oxides (NOx) mg/m3 25.90 119.91 65.29\n",
        "\n",
        "## Import Libraries"
      ],
      "metadata": {
        "id": "ThP6Mq0X2fD8"
      }
    },
    {
      "cell_type": "code",
      "execution_count": 1,
      "metadata": {
        "id": "OXxMWhd02EPp"
      },
      "outputs": [],
      "source": [
        "import pandas as pd\n",
        "import numpy as np\n",
        "from sklearn.model_selection import GridSearchCV, KFold\n",
        "from keras.models import Sequential\n",
        "from keras.layers import Dense\n",
        "from keras.wrappers.scikit_learn import KerasClassifier\n",
        "from keras.optimizers import Adam\n",
        "from keras.layers import Dropout"
      ]
    },
    {
      "cell_type": "code",
      "source": [
        "from google.colab import files\n",
        "upload = files.upload()"
      ],
      "metadata": {
        "colab": {
          "base_uri": "https://localhost:8080/",
          "height": 73
        },
        "id": "lrg0xxol2tbp",
        "outputId": "75cb8cd5-9ac9-40b1-b855-c31bd9547b44"
      },
      "execution_count": 2,
      "outputs": [
        {
          "output_type": "display_data",
          "data": {
            "text/plain": [
              "<IPython.core.display.HTML object>"
            ],
            "text/html": [
              "\n",
              "     <input type=\"file\" id=\"files-3455995b-4373-4d82-ab0b-c825b99f3de2\" name=\"files[]\" multiple disabled\n",
              "        style=\"border:none\" />\n",
              "     <output id=\"result-3455995b-4373-4d82-ab0b-c825b99f3de2\">\n",
              "      Upload widget is only available when the cell has been executed in the\n",
              "      current browser session. Please rerun this cell to enable.\n",
              "      </output>\n",
              "      <script>// Copyright 2017 Google LLC\n",
              "//\n",
              "// Licensed under the Apache License, Version 2.0 (the \"License\");\n",
              "// you may not use this file except in compliance with the License.\n",
              "// You may obtain a copy of the License at\n",
              "//\n",
              "//      http://www.apache.org/licenses/LICENSE-2.0\n",
              "//\n",
              "// Unless required by applicable law or agreed to in writing, software\n",
              "// distributed under the License is distributed on an \"AS IS\" BASIS,\n",
              "// WITHOUT WARRANTIES OR CONDITIONS OF ANY KIND, either express or implied.\n",
              "// See the License for the specific language governing permissions and\n",
              "// limitations under the License.\n",
              "\n",
              "/**\n",
              " * @fileoverview Helpers for google.colab Python module.\n",
              " */\n",
              "(function(scope) {\n",
              "function span(text, styleAttributes = {}) {\n",
              "  const element = document.createElement('span');\n",
              "  element.textContent = text;\n",
              "  for (const key of Object.keys(styleAttributes)) {\n",
              "    element.style[key] = styleAttributes[key];\n",
              "  }\n",
              "  return element;\n",
              "}\n",
              "\n",
              "// Max number of bytes which will be uploaded at a time.\n",
              "const MAX_PAYLOAD_SIZE = 100 * 1024;\n",
              "\n",
              "function _uploadFiles(inputId, outputId) {\n",
              "  const steps = uploadFilesStep(inputId, outputId);\n",
              "  const outputElement = document.getElementById(outputId);\n",
              "  // Cache steps on the outputElement to make it available for the next call\n",
              "  // to uploadFilesContinue from Python.\n",
              "  outputElement.steps = steps;\n",
              "\n",
              "  return _uploadFilesContinue(outputId);\n",
              "}\n",
              "\n",
              "// This is roughly an async generator (not supported in the browser yet),\n",
              "// where there are multiple asynchronous steps and the Python side is going\n",
              "// to poll for completion of each step.\n",
              "// This uses a Promise to block the python side on completion of each step,\n",
              "// then passes the result of the previous step as the input to the next step.\n",
              "function _uploadFilesContinue(outputId) {\n",
              "  const outputElement = document.getElementById(outputId);\n",
              "  const steps = outputElement.steps;\n",
              "\n",
              "  const next = steps.next(outputElement.lastPromiseValue);\n",
              "  return Promise.resolve(next.value.promise).then((value) => {\n",
              "    // Cache the last promise value to make it available to the next\n",
              "    // step of the generator.\n",
              "    outputElement.lastPromiseValue = value;\n",
              "    return next.value.response;\n",
              "  });\n",
              "}\n",
              "\n",
              "/**\n",
              " * Generator function which is called between each async step of the upload\n",
              " * process.\n",
              " * @param {string} inputId Element ID of the input file picker element.\n",
              " * @param {string} outputId Element ID of the output display.\n",
              " * @return {!Iterable<!Object>} Iterable of next steps.\n",
              " */\n",
              "function* uploadFilesStep(inputId, outputId) {\n",
              "  const inputElement = document.getElementById(inputId);\n",
              "  inputElement.disabled = false;\n",
              "\n",
              "  const outputElement = document.getElementById(outputId);\n",
              "  outputElement.innerHTML = '';\n",
              "\n",
              "  const pickedPromise = new Promise((resolve) => {\n",
              "    inputElement.addEventListener('change', (e) => {\n",
              "      resolve(e.target.files);\n",
              "    });\n",
              "  });\n",
              "\n",
              "  const cancel = document.createElement('button');\n",
              "  inputElement.parentElement.appendChild(cancel);\n",
              "  cancel.textContent = 'Cancel upload';\n",
              "  const cancelPromise = new Promise((resolve) => {\n",
              "    cancel.onclick = () => {\n",
              "      resolve(null);\n",
              "    };\n",
              "  });\n",
              "\n",
              "  // Wait for the user to pick the files.\n",
              "  const files = yield {\n",
              "    promise: Promise.race([pickedPromise, cancelPromise]),\n",
              "    response: {\n",
              "      action: 'starting',\n",
              "    }\n",
              "  };\n",
              "\n",
              "  cancel.remove();\n",
              "\n",
              "  // Disable the input element since further picks are not allowed.\n",
              "  inputElement.disabled = true;\n",
              "\n",
              "  if (!files) {\n",
              "    return {\n",
              "      response: {\n",
              "        action: 'complete',\n",
              "      }\n",
              "    };\n",
              "  }\n",
              "\n",
              "  for (const file of files) {\n",
              "    const li = document.createElement('li');\n",
              "    li.append(span(file.name, {fontWeight: 'bold'}));\n",
              "    li.append(span(\n",
              "        `(${file.type || 'n/a'}) - ${file.size} bytes, ` +\n",
              "        `last modified: ${\n",
              "            file.lastModifiedDate ? file.lastModifiedDate.toLocaleDateString() :\n",
              "                                    'n/a'} - `));\n",
              "    const percent = span('0% done');\n",
              "    li.appendChild(percent);\n",
              "\n",
              "    outputElement.appendChild(li);\n",
              "\n",
              "    const fileDataPromise = new Promise((resolve) => {\n",
              "      const reader = new FileReader();\n",
              "      reader.onload = (e) => {\n",
              "        resolve(e.target.result);\n",
              "      };\n",
              "      reader.readAsArrayBuffer(file);\n",
              "    });\n",
              "    // Wait for the data to be ready.\n",
              "    let fileData = yield {\n",
              "      promise: fileDataPromise,\n",
              "      response: {\n",
              "        action: 'continue',\n",
              "      }\n",
              "    };\n",
              "\n",
              "    // Use a chunked sending to avoid message size limits. See b/62115660.\n",
              "    let position = 0;\n",
              "    do {\n",
              "      const length = Math.min(fileData.byteLength - position, MAX_PAYLOAD_SIZE);\n",
              "      const chunk = new Uint8Array(fileData, position, length);\n",
              "      position += length;\n",
              "\n",
              "      const base64 = btoa(String.fromCharCode.apply(null, chunk));\n",
              "      yield {\n",
              "        response: {\n",
              "          action: 'append',\n",
              "          file: file.name,\n",
              "          data: base64,\n",
              "        },\n",
              "      };\n",
              "\n",
              "      let percentDone = fileData.byteLength === 0 ?\n",
              "          100 :\n",
              "          Math.round((position / fileData.byteLength) * 100);\n",
              "      percent.textContent = `${percentDone}% done`;\n",
              "\n",
              "    } while (position < fileData.byteLength);\n",
              "  }\n",
              "\n",
              "  // All done.\n",
              "  yield {\n",
              "    response: {\n",
              "      action: 'complete',\n",
              "    }\n",
              "  };\n",
              "}\n",
              "\n",
              "scope.google = scope.google || {};\n",
              "scope.google.colab = scope.google.colab || {};\n",
              "scope.google.colab._files = {\n",
              "  _uploadFiles,\n",
              "  _uploadFilesContinue,\n",
              "};\n",
              "})(self);\n",
              "</script> "
            ]
          },
          "metadata": {}
        },
        {
          "output_type": "stream",
          "name": "stdout",
          "text": [
            "Saving gas_turbines.csv to gas_turbines.csv\n"
          ]
        }
      ]
    },
    {
      "cell_type": "code",
      "source": [
        "df=pd.read_csv(\"gas_turbines.csv\")\n",
        "df.head()"
      ],
      "metadata": {
        "colab": {
          "base_uri": "https://localhost:8080/",
          "height": 206
        },
        "id": "6Hnli1Pr21DD",
        "outputId": "43da7b06-ddb9-4bfa-900f-d86605987733"
      },
      "execution_count": 3,
      "outputs": [
        {
          "output_type": "execute_result",
          "data": {
            "text/plain": [
              "       AT      AP      AH    AFDP    GTEP     TIT     TAT     TEY     CDP  \\\n",
              "0  6.8594  1007.9  96.799  3.5000  19.663  1059.2  550.00  114.70  10.605   \n",
              "1  6.7850  1008.4  97.118  3.4998  19.728  1059.3  550.00  114.72  10.598   \n",
              "2  6.8977  1008.8  95.939  3.4824  19.779  1059.4  549.87  114.71  10.601   \n",
              "3  7.0569  1009.2  95.249  3.4805  19.792  1059.6  549.99  114.72  10.606   \n",
              "4  7.3978  1009.7  95.150  3.4976  19.765  1059.7  549.98  114.72  10.612   \n",
              "\n",
              "       CO     NOX  \n",
              "0  3.1547  82.722  \n",
              "1  3.2363  82.776  \n",
              "2  3.2012  82.468  \n",
              "3  3.1923  82.670  \n",
              "4  3.2484  82.311  "
            ],
            "text/html": [
              "\n",
              "  <div id=\"df-d2cd33b4-770a-4b1c-b60b-797c768fd8fd\">\n",
              "    <div class=\"colab-df-container\">\n",
              "      <div>\n",
              "<style scoped>\n",
              "    .dataframe tbody tr th:only-of-type {\n",
              "        vertical-align: middle;\n",
              "    }\n",
              "\n",
              "    .dataframe tbody tr th {\n",
              "        vertical-align: top;\n",
              "    }\n",
              "\n",
              "    .dataframe thead th {\n",
              "        text-align: right;\n",
              "    }\n",
              "</style>\n",
              "<table border=\"1\" class=\"dataframe\">\n",
              "  <thead>\n",
              "    <tr style=\"text-align: right;\">\n",
              "      <th></th>\n",
              "      <th>AT</th>\n",
              "      <th>AP</th>\n",
              "      <th>AH</th>\n",
              "      <th>AFDP</th>\n",
              "      <th>GTEP</th>\n",
              "      <th>TIT</th>\n",
              "      <th>TAT</th>\n",
              "      <th>TEY</th>\n",
              "      <th>CDP</th>\n",
              "      <th>CO</th>\n",
              "      <th>NOX</th>\n",
              "    </tr>\n",
              "  </thead>\n",
              "  <tbody>\n",
              "    <tr>\n",
              "      <th>0</th>\n",
              "      <td>6.8594</td>\n",
              "      <td>1007.9</td>\n",
              "      <td>96.799</td>\n",
              "      <td>3.5000</td>\n",
              "      <td>19.663</td>\n",
              "      <td>1059.2</td>\n",
              "      <td>550.00</td>\n",
              "      <td>114.70</td>\n",
              "      <td>10.605</td>\n",
              "      <td>3.1547</td>\n",
              "      <td>82.722</td>\n",
              "    </tr>\n",
              "    <tr>\n",
              "      <th>1</th>\n",
              "      <td>6.7850</td>\n",
              "      <td>1008.4</td>\n",
              "      <td>97.118</td>\n",
              "      <td>3.4998</td>\n",
              "      <td>19.728</td>\n",
              "      <td>1059.3</td>\n",
              "      <td>550.00</td>\n",
              "      <td>114.72</td>\n",
              "      <td>10.598</td>\n",
              "      <td>3.2363</td>\n",
              "      <td>82.776</td>\n",
              "    </tr>\n",
              "    <tr>\n",
              "      <th>2</th>\n",
              "      <td>6.8977</td>\n",
              "      <td>1008.8</td>\n",
              "      <td>95.939</td>\n",
              "      <td>3.4824</td>\n",
              "      <td>19.779</td>\n",
              "      <td>1059.4</td>\n",
              "      <td>549.87</td>\n",
              "      <td>114.71</td>\n",
              "      <td>10.601</td>\n",
              "      <td>3.2012</td>\n",
              "      <td>82.468</td>\n",
              "    </tr>\n",
              "    <tr>\n",
              "      <th>3</th>\n",
              "      <td>7.0569</td>\n",
              "      <td>1009.2</td>\n",
              "      <td>95.249</td>\n",
              "      <td>3.4805</td>\n",
              "      <td>19.792</td>\n",
              "      <td>1059.6</td>\n",
              "      <td>549.99</td>\n",
              "      <td>114.72</td>\n",
              "      <td>10.606</td>\n",
              "      <td>3.1923</td>\n",
              "      <td>82.670</td>\n",
              "    </tr>\n",
              "    <tr>\n",
              "      <th>4</th>\n",
              "      <td>7.3978</td>\n",
              "      <td>1009.7</td>\n",
              "      <td>95.150</td>\n",
              "      <td>3.4976</td>\n",
              "      <td>19.765</td>\n",
              "      <td>1059.7</td>\n",
              "      <td>549.98</td>\n",
              "      <td>114.72</td>\n",
              "      <td>10.612</td>\n",
              "      <td>3.2484</td>\n",
              "      <td>82.311</td>\n",
              "    </tr>\n",
              "  </tbody>\n",
              "</table>\n",
              "</div>\n",
              "      <button class=\"colab-df-convert\" onclick=\"convertToInteractive('df-d2cd33b4-770a-4b1c-b60b-797c768fd8fd')\"\n",
              "              title=\"Convert this dataframe to an interactive table.\"\n",
              "              style=\"display:none;\">\n",
              "        \n",
              "  <svg xmlns=\"http://www.w3.org/2000/svg\" height=\"24px\"viewBox=\"0 0 24 24\"\n",
              "       width=\"24px\">\n",
              "    <path d=\"M0 0h24v24H0V0z\" fill=\"none\"/>\n",
              "    <path d=\"M18.56 5.44l.94 2.06.94-2.06 2.06-.94-2.06-.94-.94-2.06-.94 2.06-2.06.94zm-11 1L8.5 8.5l.94-2.06 2.06-.94-2.06-.94L8.5 2.5l-.94 2.06-2.06.94zm10 10l.94 2.06.94-2.06 2.06-.94-2.06-.94-.94-2.06-.94 2.06-2.06.94z\"/><path d=\"M17.41 7.96l-1.37-1.37c-.4-.4-.92-.59-1.43-.59-.52 0-1.04.2-1.43.59L10.3 9.45l-7.72 7.72c-.78.78-.78 2.05 0 2.83L4 21.41c.39.39.9.59 1.41.59.51 0 1.02-.2 1.41-.59l7.78-7.78 2.81-2.81c.8-.78.8-2.07 0-2.86zM5.41 20L4 18.59l7.72-7.72 1.47 1.35L5.41 20z\"/>\n",
              "  </svg>\n",
              "      </button>\n",
              "      \n",
              "  <style>\n",
              "    .colab-df-container {\n",
              "      display:flex;\n",
              "      flex-wrap:wrap;\n",
              "      gap: 12px;\n",
              "    }\n",
              "\n",
              "    .colab-df-convert {\n",
              "      background-color: #E8F0FE;\n",
              "      border: none;\n",
              "      border-radius: 50%;\n",
              "      cursor: pointer;\n",
              "      display: none;\n",
              "      fill: #1967D2;\n",
              "      height: 32px;\n",
              "      padding: 0 0 0 0;\n",
              "      width: 32px;\n",
              "    }\n",
              "\n",
              "    .colab-df-convert:hover {\n",
              "      background-color: #E2EBFA;\n",
              "      box-shadow: 0px 1px 2px rgba(60, 64, 67, 0.3), 0px 1px 3px 1px rgba(60, 64, 67, 0.15);\n",
              "      fill: #174EA6;\n",
              "    }\n",
              "\n",
              "    [theme=dark] .colab-df-convert {\n",
              "      background-color: #3B4455;\n",
              "      fill: #D2E3FC;\n",
              "    }\n",
              "\n",
              "    [theme=dark] .colab-df-convert:hover {\n",
              "      background-color: #434B5C;\n",
              "      box-shadow: 0px 1px 3px 1px rgba(0, 0, 0, 0.15);\n",
              "      filter: drop-shadow(0px 1px 2px rgba(0, 0, 0, 0.3));\n",
              "      fill: #FFFFFF;\n",
              "    }\n",
              "  </style>\n",
              "\n",
              "      <script>\n",
              "        const buttonEl =\n",
              "          document.querySelector('#df-d2cd33b4-770a-4b1c-b60b-797c768fd8fd button.colab-df-convert');\n",
              "        buttonEl.style.display =\n",
              "          google.colab.kernel.accessAllowed ? 'block' : 'none';\n",
              "\n",
              "        async function convertToInteractive(key) {\n",
              "          const element = document.querySelector('#df-d2cd33b4-770a-4b1c-b60b-797c768fd8fd');\n",
              "          const dataTable =\n",
              "            await google.colab.kernel.invokeFunction('convertToInteractive',\n",
              "                                                     [key], {});\n",
              "          if (!dataTable) return;\n",
              "\n",
              "          const docLinkHtml = 'Like what you see? Visit the ' +\n",
              "            '<a target=\"_blank\" href=https://colab.research.google.com/notebooks/data_table.ipynb>data table notebook</a>'\n",
              "            + ' to learn more about interactive tables.';\n",
              "          element.innerHTML = '';\n",
              "          dataTable['output_type'] = 'display_data';\n",
              "          await google.colab.output.renderOutput(dataTable, element);\n",
              "          const docLink = document.createElement('div');\n",
              "          docLink.innerHTML = docLinkHtml;\n",
              "          element.appendChild(docLink);\n",
              "        }\n",
              "      </script>\n",
              "    </div>\n",
              "  </div>\n",
              "  "
            ]
          },
          "metadata": {},
          "execution_count": 3
        }
      ]
    },
    {
      "cell_type": "markdown",
      "source": [
        "## EDA"
      ],
      "metadata": {
        "id": "rKRaRhO03Bem"
      }
    },
    {
      "cell_type": "code",
      "source": [
        "df.dtypes"
      ],
      "metadata": {
        "colab": {
          "base_uri": "https://localhost:8080/"
        },
        "id": "Z7nm4Sp_3ALY",
        "outputId": "e6d1c503-aa7c-4a3e-e068-27b1a6520f59"
      },
      "execution_count": 4,
      "outputs": [
        {
          "output_type": "execute_result",
          "data": {
            "text/plain": [
              "AT      float64\n",
              "AP      float64\n",
              "AH      float64\n",
              "AFDP    float64\n",
              "GTEP    float64\n",
              "TIT     float64\n",
              "TAT     float64\n",
              "TEY     float64\n",
              "CDP     float64\n",
              "CO      float64\n",
              "NOX     float64\n",
              "dtype: object"
            ]
          },
          "metadata": {},
          "execution_count": 4
        }
      ]
    },
    {
      "cell_type": "code",
      "source": [
        "df.isnull().sum()"
      ],
      "metadata": {
        "colab": {
          "base_uri": "https://localhost:8080/"
        },
        "id": "0iclLxFQ3FNV",
        "outputId": "02ccc1b9-a668-464f-b074-8df17bf52a0a"
      },
      "execution_count": 7,
      "outputs": [
        {
          "output_type": "execute_result",
          "data": {
            "text/plain": [
              "AT      0\n",
              "AP      0\n",
              "AH      0\n",
              "AFDP    0\n",
              "GTEP    0\n",
              "TIT     0\n",
              "TAT     0\n",
              "TEY     0\n",
              "CDP     0\n",
              "CO      0\n",
              "NOX     0\n",
              "dtype: int64"
            ]
          },
          "metadata": {},
          "execution_count": 7
        }
      ]
    },
    {
      "cell_type": "code",
      "source": [
        "df.shape\n"
      ],
      "metadata": {
        "colab": {
          "base_uri": "https://localhost:8080/"
        },
        "id": "qNxYYhOi3IdJ",
        "outputId": "e54319f8-7ed7-4b4d-c729-948621f24387"
      },
      "execution_count": 8,
      "outputs": [
        {
          "output_type": "execute_result",
          "data": {
            "text/plain": [
              "(15039, 11)"
            ]
          },
          "metadata": {},
          "execution_count": 8
        }
      ]
    },
    {
      "cell_type": "markdown",
      "source": [
        "## Visualization"
      ],
      "metadata": {
        "id": "vVvPxZwQ3ZH2"
      }
    },
    {
      "cell_type": "code",
      "source": [
        "#Visualization:\n",
        "import matplotlib.pyplot as plt\n",
        "%matplotlib inline\n",
        "import seaborn as sns\n",
        "corrmat = df.corr()\n",
        "top_corr_features = corrmat.index\n",
        "plt.figure(figsize=(15,20))\n",
        "#Plot Heat Map\n",
        "g=sns.heatmap(df[top_corr_features].corr(), annot=True, cmap='RdYlGn')"
      ],
      "metadata": {
        "colab": {
          "base_uri": "https://localhost:8080/",
          "height": 993
        },
        "id": "-GJwgpyd3YZc",
        "outputId": "b79bcfcd-127b-4fb6-f159-a8ce10e04aa9"
      },
      "execution_count": 9,
      "outputs": [
        {
          "output_type": "display_data",
          "data": {
            "text/plain": [
              "<Figure size 1080x1440 with 2 Axes>"
            ],
            "image/png": "[encoded data removed]"
          },
          "metadata": {
            "needs_background": "light"
          }
        }
      ]
    },
    {
      "cell_type": "code",
      "source": [
        "gs=df.values\n",
        "gs"
      ],
      "metadata": {
        "colab": {
          "base_uri": "https://localhost:8080/"
        },
        "id": "3Xq63DEN3dGp",
        "outputId": "b5f0e091-6522-474e-c3b2-c84302968ce4"
      },
      "execution_count": 10,
      "outputs": [
        {
          "output_type": "execute_result",
          "data": {
            "text/plain": [
              "array([[   6.8594, 1007.9   ,   96.799 , ...,   10.605 ,    3.1547,\n",
              "          82.722 ],\n",
              "       [   6.785 , 1008.4   ,   97.118 , ...,   10.598 ,    3.2363,\n",
              "          82.776 ],\n",
              "       [   6.8977, 1008.8   ,   95.939 , ...,   10.601 ,    3.2012,\n",
              "          82.468 ],\n",
              "       ...,\n",
              "       [   7.2647, 1006.3   ,   99.496 , ...,   10.483 ,    7.9632,\n",
              "          90.912 ],\n",
              "       [   7.006 , 1006.8   ,   99.008 , ...,   10.533 ,    6.2494,\n",
              "          93.227 ],\n",
              "       [   6.9279, 1007.2   ,   97.533 , ...,   10.583 ,    4.9816,\n",
              "          92.498 ]])"
            ]
          },
          "metadata": {},
          "execution_count": 10
        }
      ]
    },
    {
      "cell_type": "code",
      "source": [
        "# split into input (X) and output (Y) variables\n",
        "X = gs[:,[0,1,2,3,4,5,6,8,9,10]]\n",
        "Y = gs[:,-4]"
      ],
      "metadata": {
        "id": "GuCxQeOv3gYd"
      },
      "execution_count": 13,
      "outputs": []
    },
    {
      "cell_type": "code",
      "source": [
        "X"
      ],
      "metadata": {
        "colab": {
          "base_uri": "https://localhost:8080/"
        },
        "id": "Ny4WaECk3ig8",
        "outputId": "854b367f-2adc-4749-b8dd-9fb6202ae3a1"
      },
      "execution_count": 14,
      "outputs": [
        {
          "output_type": "execute_result",
          "data": {
            "text/plain": [
              "array([[   6.8594, 1007.9   ,   96.799 , ...,   10.605 ,    3.1547,\n",
              "          82.722 ],\n",
              "       [   6.785 , 1008.4   ,   97.118 , ...,   10.598 ,    3.2363,\n",
              "          82.776 ],\n",
              "       [   6.8977, 1008.8   ,   95.939 , ...,   10.601 ,    3.2012,\n",
              "          82.468 ],\n",
              "       ...,\n",
              "       [   7.2647, 1006.3   ,   99.496 , ...,   10.483 ,    7.9632,\n",
              "          90.912 ],\n",
              "       [   7.006 , 1006.8   ,   99.008 , ...,   10.533 ,    6.2494,\n",
              "          93.227 ],\n",
              "       [   6.9279, 1007.2   ,   97.533 , ...,   10.583 ,    4.9816,\n",
              "          92.498 ]])"
            ]
          },
          "metadata": {},
          "execution_count": 14
        }
      ]
    },
    {
      "cell_type": "code",
      "source": [
        "Y"
      ],
      "metadata": {
        "colab": {
          "base_uri": "https://localhost:8080/"
        },
        "id": "GKU1ik0T3j--",
        "outputId": "714a37b9-27b9-4ee6-f543-b1f6f027bc7a"
      },
      "execution_count": 15,
      "outputs": [
        {
          "output_type": "execute_result",
          "data": {
            "text/plain": [
              "array([114.7 , 114.72, 114.71, ..., 110.19, 110.74, 111.58])"
            ]
          },
          "metadata": {},
          "execution_count": 15
        }
      ]
    },
    {
      "cell_type": "markdown",
      "source": [
        "## Splitting data n test and train set"
      ],
      "metadata": {
        "id": "QIQsf37v3tUz"
      }
    },
    {
      "cell_type": "code",
      "source": [
        "from sklearn.model_selection import train_test_split"
      ],
      "metadata": {
        "id": "JhD2_uJ83sXL"
      },
      "execution_count": 16,
      "outputs": []
    },
    {
      "cell_type": "code",
      "source": [
        "x_train, x_test, y_train, y_test = train_test_split(X,Y,test_size=0.25,random_state=101)"
      ],
      "metadata": {
        "id": "JpzdXECy3woq"
      },
      "execution_count": 17,
      "outputs": []
    },
    {
      "cell_type": "markdown",
      "source": [
        "## Standardization"
      ],
      "metadata": {
        "id": "j-XhmuLi3zce"
      }
    },
    {
      "cell_type": "code",
      "source": [
        "from sklearn.preprocessing import MinMaxScaler\n",
        "scaler=MinMaxScaler()\n",
        "scaler.fit(x_train)"
      ],
      "metadata": {
        "colab": {
          "base_uri": "https://localhost:8080/"
        },
        "id": "Fwuv_9Tj3ydC",
        "outputId": "0572986b-d336-46ea-d550-6b5707fa7555"
      },
      "execution_count": 18,
      "outputs": [
        {
          "output_type": "execute_result",
          "data": {
            "text/plain": [
              "MinMaxScaler()"
            ]
          },
          "metadata": {},
          "execution_count": 18
        }
      ]
    },
    {
      "cell_type": "code",
      "source": [
        "x_train=scaler.transform(x_train)\n",
        "x_test=scaler.transform(x_test)\n",
        "x_test"
      ],
      "metadata": {
        "colab": {
          "base_uri": "https://localhost:8080/"
        },
        "id": "KHk-SVgJ32cw",
        "outputId": "4a38638e-8a75-49a9-9fa4-158cc4d24d0c"
      },
      "execution_count": 19,
      "outputs": [
        {
          "output_type": "execute_result",
          "data": {
            "text/plain": [
              "array([[0.35890393, 0.40602285, 0.91801706, ..., 0.34107329, 0.03084967,\n",
              "        0.48475958],\n",
              "       [0.55162803, 0.59086189, 0.72785444, ..., 0.42819611, 0.02833486,\n",
              "        0.43366477],\n",
              "       [0.69430373, 0.53478712, 0.55215014, ..., 0.14847583, 0.15186537,\n",
              "        0.33822331],\n",
              "       ...,\n",
              "       [0.29923532, 0.48494289, 0.94876603, ..., 0.77514199, 0.00101504,\n",
              "        0.41400706],\n",
              "       [0.64399376, 0.35825545, 0.50904718, ..., 0.04705791, 0.10100297,\n",
              "        0.36756316],\n",
              "       [0.3486443 , 0.24340602, 0.81637941, ..., 0.34416412, 0.00787964,\n",
              "        0.54170062]])"
            ]
          },
          "metadata": {},
          "execution_count": 19
        }
      ]
    },
    {
      "cell_type": "markdown",
      "source": [
        "## Create model"
      ],
      "metadata": {
        "id": "Bglbq1SO35G2"
      }
    },
    {
      "cell_type": "code",
      "source": [
        "model = Sequential()\n",
        "model.add(Dense(10, activation='relu'))\n",
        "model.add(Dense(10, activation='relu'))\n",
        "model.add(Dense(10, activation='relu'))\n",
        "# add nodes for prediction\n",
        "model.add(Dense(1))"
      ],
      "metadata": {
        "id": "RDcWxNIZ34RH"
      },
      "execution_count": 20,
      "outputs": []
    },
    {
      "cell_type": "code",
      "source": [
        "model.compile(optimizer='rmsprop',loss='mse')"
      ],
      "metadata": {
        "id": "hYm1MXcG38sh"
      },
      "execution_count": 21,
      "outputs": []
    },
    {
      "cell_type": "code",
      "source": [
        "# Fit the model\n",
        "model.fit(x_train, y_train, epochs=250)"
      ],
      "metadata": {
        "colab": {
          "base_uri": "https://localhost:8080/"
        },
        "id": "njA32uFh3-Nq",
        "outputId": "6d0daa60-1840-4f6f-f198-62622c2319de"
      },
      "execution_count": 22,
      "outputs": [
        {
          "output_type": "stream",
          "name": "stdout",
          "text": [
            "Epoch 1/250\n",
            "353/353 [==============================] - 2s 1ms/step - loss: 12324.5498\n",
            "Epoch 2/250\n",
            "353/353 [==============================] - 1s 1ms/step - loss: 119.5826\n",
            "Epoch 3/250\n",
            "353/353 [==============================] - 1s 1ms/step - loss: 26.0743\n",
            "Epoch 4/250\n",
            "353/353 [==============================] - 0s 1ms/step - loss: 20.9642\n",
            "Epoch 5/250\n",
            "353/353 [==============================] - 0s 1ms/step - loss: 17.5350\n",
            "Epoch 6/250\n",
            "353/353 [==============================] - 0s 1ms/step - loss: 14.8249\n",
            "Epoch 7/250\n",
            "353/353 [==============================] - 0s 1ms/step - loss: 12.6863\n",
            "Epoch 8/250\n",
            "353/353 [==============================] - 0s 1ms/step - loss: 10.8513\n",
            "Epoch 9/250\n",
            "353/353 [==============================] - 1s 1ms/step - loss: 9.2743\n",
            "Epoch 10/250\n",
            "353/353 [==============================] - 1s 1ms/step - loss: 7.7957\n",
            "Epoch 11/250\n",
            "353/353 [==============================] - 0s 1ms/step - loss: 6.5504\n",
            "Epoch 12/250\n",
            "353/353 [==============================] - 0s 1ms/step - loss: 5.4587\n",
            "Epoch 13/250\n",
            "353/353 [==============================] - 0s 1ms/step - loss: 4.4523\n",
            "Epoch 14/250\n",
            "353/353 [==============================] - 0s 1ms/step - loss: 3.5887\n",
            "Epoch 15/250\n",
            "353/353 [==============================] - 1s 1ms/step - loss: 2.9331\n",
            "Epoch 16/250\n",
            "353/353 [==============================] - 0s 1ms/step - loss: 2.3377\n",
            "Epoch 17/250\n",
            "353/353 [==============================] - 0s 1ms/step - loss: 1.9319\n",
            "Epoch 18/250\n",
            "353/353 [==============================] - 0s 1ms/step - loss: 1.6434\n",
            "Epoch 19/250\n",
            "353/353 [==============================] - 0s 1ms/step - loss: 1.4184\n",
            "Epoch 20/250\n",
            "353/353 [==============================] - 0s 1ms/step - loss: 1.3046\n",
            "Epoch 21/250\n",
            "353/353 [==============================] - 0s 1ms/step - loss: 1.2015\n",
            "Epoch 22/250\n",
            "353/353 [==============================] - 1s 1ms/step - loss: 1.1431\n",
            "Epoch 23/250\n",
            "353/353 [==============================] - 0s 1ms/step - loss: 1.1066\n",
            "Epoch 24/250\n",
            "353/353 [==============================] - 1s 1ms/step - loss: 1.1010\n",
            "Epoch 25/250\n",
            "353/353 [==============================] - 0s 1ms/step - loss: 1.0895\n",
            "Epoch 26/250\n",
            "353/353 [==============================] - 1s 1ms/step - loss: 1.0596\n",
            "Epoch 27/250\n",
            "353/353 [==============================] - 0s 1ms/step - loss: 1.0783\n",
            "Epoch 28/250\n",
            "353/353 [==============================] - 0s 1ms/step - loss: 1.0752\n",
            "Epoch 29/250\n",
            "353/353 [==============================] - 0s 1ms/step - loss: 1.0557\n",
            "Epoch 30/250\n",
            "353/353 [==============================] - 1s 1ms/step - loss: 1.0610\n",
            "Epoch 31/250\n",
            "353/353 [==============================] - 0s 1ms/step - loss: 1.0695\n",
            "Epoch 32/250\n",
            "353/353 [==============================] - 0s 1ms/step - loss: 1.0437\n",
            "Epoch 33/250\n",
            "353/353 [==============================] - 0s 1ms/step - loss: 1.0676\n",
            "Epoch 34/250\n",
            "353/353 [==============================] - 1s 1ms/step - loss: 1.0395\n",
            "Epoch 35/250\n",
            "353/353 [==============================] - 0s 1ms/step - loss: 1.0538\n",
            "Epoch 36/250\n",
            "353/353 [==============================] - 1s 1ms/step - loss: 1.0562\n",
            "Epoch 37/250\n",
            "353/353 [==============================] - 0s 1ms/step - loss: 1.0492\n",
            "Epoch 38/250\n",
            "353/353 [==============================] - 0s 1ms/step - loss: 1.0501\n",
            "Epoch 39/250\n",
            "353/353 [==============================] - 0s 1ms/step - loss: 1.0427\n",
            "Epoch 40/250\n",
            "353/353 [==============================] - 1s 1ms/step - loss: 1.0581\n",
            "Epoch 41/250\n",
            "353/353 [==============================] - 0s 1ms/step - loss: 1.0545\n",
            "Epoch 42/250\n",
            "353/353 [==============================] - 1s 1ms/step - loss: 1.0430\n",
            "Epoch 43/250\n",
            "353/353 [==============================] - 0s 1ms/step - loss: 1.0400\n",
            "Epoch 44/250\n",
            "353/353 [==============================] - 0s 1ms/step - loss: 1.0364\n",
            "Epoch 45/250\n",
            "353/353 [==============================] - 0s 1ms/step - loss: 1.0321\n",
            "Epoch 46/250\n",
            "353/353 [==============================] - 1s 1ms/step - loss: 1.0299\n",
            "Epoch 47/250\n",
            "353/353 [==============================] - 0s 1ms/step - loss: 1.0450\n",
            "Epoch 48/250\n",
            "353/353 [==============================] - 1s 1ms/step - loss: 1.0292\n",
            "Epoch 49/250\n",
            "353/353 [==============================] - 1s 2ms/step - loss: 1.0184\n",
            "Epoch 50/250\n",
            "353/353 [==============================] - 1s 2ms/step - loss: 1.0370\n",
            "Epoch 51/250\n",
            "353/353 [==============================] - 1s 2ms/step - loss: 1.0307\n",
            "Epoch 52/250\n",
            "353/353 [==============================] - 0s 1ms/step - loss: 1.0126\n",
            "Epoch 53/250\n",
            "353/353 [==============================] - 1s 1ms/step - loss: 1.0308\n",
            "Epoch 54/250\n",
            "353/353 [==============================] - 0s 1ms/step - loss: 1.0286\n",
            "Epoch 55/250\n",
            "353/353 [==============================] - 1s 1ms/step - loss: 1.0244\n",
            "Epoch 56/250\n",
            "353/353 [==============================] - 1s 1ms/step - loss: 1.0136\n",
            "Epoch 57/250\n",
            "353/353 [==============================] - 1s 1ms/step - loss: 1.0191\n",
            "Epoch 58/250\n",
            "353/353 [==============================] - 0s 1ms/step - loss: 1.0142\n",
            "Epoch 59/250\n",
            "353/353 [==============================] - 1s 1ms/step - loss: 1.0303\n",
            "Epoch 60/250\n",
            "353/353 [==============================] - 1s 1ms/step - loss: 1.0071\n",
            "Epoch 61/250\n",
            "353/353 [==============================] - 1s 1ms/step - loss: 1.0257\n",
            "Epoch 62/250\n",
            "353/353 [==============================] - 0s 1ms/step - loss: 1.0052\n",
            "Epoch 63/250\n",
            "353/353 [==============================] - 0s 1ms/step - loss: 1.0161\n",
            "Epoch 64/250\n",
            "353/353 [==============================] - 0s 1ms/step - loss: 1.0101\n",
            "Epoch 65/250\n",
            "353/353 [==============================] - 0s 1ms/step - loss: 1.0023\n",
            "Epoch 66/250\n",
            "353/353 [==============================] - 0s 1ms/step - loss: 1.0024\n",
            "Epoch 67/250\n",
            "353/353 [==============================] - 0s 1ms/step - loss: 1.0035\n",
            "Epoch 68/250\n",
            "353/353 [==============================] - 0s 1ms/step - loss: 1.0054\n",
            "Epoch 69/250\n",
            "353/353 [==============================] - 1s 1ms/step - loss: 1.0068\n",
            "Epoch 70/250\n",
            "353/353 [==============================] - 0s 1ms/step - loss: 1.0108\n",
            "Epoch 71/250\n",
            "353/353 [==============================] - 1s 1ms/step - loss: 1.0030\n",
            "Epoch 72/250\n",
            "353/353 [==============================] - 0s 1ms/step - loss: 1.0171\n",
            "Epoch 73/250\n",
            "353/353 [==============================] - 0s 1ms/step - loss: 1.0000\n",
            "Epoch 74/250\n",
            "353/353 [==============================] - 0s 1ms/step - loss: 0.9987\n",
            "Epoch 75/250\n",
            "353/353 [==============================] - 1s 1ms/step - loss: 1.0013\n",
            "Epoch 76/250\n",
            "353/353 [==============================] - 1s 1ms/step - loss: 0.9887\n",
            "Epoch 77/250\n",
            "353/353 [==============================] - 1s 1ms/step - loss: 0.9979\n",
            "Epoch 78/250\n",
            "353/353 [==============================] - 1s 1ms/step - loss: 0.9876\n",
            "Epoch 79/250\n",
            "353/353 [==============================] - 1s 1ms/step - loss: 1.0013\n",
            "Epoch 80/250\n",
            "353/353 [==============================] - 0s 1ms/step - loss: 0.9844\n",
            "Epoch 81/250\n",
            "353/353 [==============================] - 1s 1ms/step - loss: 0.9993\n",
            "Epoch 82/250\n",
            "353/353 [==============================] - 0s 1ms/step - loss: 0.9776\n",
            "Epoch 83/250\n",
            "353/353 [==============================] - 0s 1ms/step - loss: 1.0088\n",
            "Epoch 84/250\n",
            "353/353 [==============================] - 1s 1ms/step - loss: 0.9818\n",
            "Epoch 85/250\n",
            "353/353 [==============================] - 1s 1ms/step - loss: 0.9906\n",
            "Epoch 86/250\n",
            "353/353 [==============================] - 1s 1ms/step - loss: 0.9704\n",
            "Epoch 87/250\n",
            "353/353 [==============================] - 1s 1ms/step - loss: 0.9991\n",
            "Epoch 88/250\n",
            "353/353 [==============================] - 1s 1ms/step - loss: 0.9824\n",
            "Epoch 89/250\n",
            "353/353 [==============================] - 1s 1ms/step - loss: 0.9750\n",
            "Epoch 90/250\n",
            "353/353 [==============================] - 0s 1ms/step - loss: 0.9748\n",
            "Epoch 91/250\n",
            "353/353 [==============================] - 1s 1ms/step - loss: 0.9791\n",
            "Epoch 92/250\n",
            "353/353 [==============================] - 0s 1ms/step - loss: 0.9752\n",
            "Epoch 93/250\n",
            "353/353 [==============================] - 1s 1ms/step - loss: 0.9706\n",
            "Epoch 94/250\n",
            "353/353 [==============================] - 0s 1ms/step - loss: 0.9787\n",
            "Epoch 95/250\n",
            "353/353 [==============================] - 1s 1ms/step - loss: 0.9724\n",
            "Epoch 96/250\n",
            "353/353 [==============================] - 0s 1ms/step - loss: 0.9647\n",
            "Epoch 97/250\n",
            "353/353 [==============================] - 1s 1ms/step - loss: 0.9802\n",
            "Epoch 98/250\n",
            "353/353 [==============================] - 1s 1ms/step - loss: 0.9765\n",
            "Epoch 99/250\n",
            "353/353 [==============================] - 1s 1ms/step - loss: 0.9565\n",
            "Epoch 100/250\n",
            "353/353 [==============================] - 0s 1ms/step - loss: 0.9745\n",
            "Epoch 101/250\n",
            "353/353 [==============================] - 1s 1ms/step - loss: 0.9690\n",
            "Epoch 102/250\n",
            "353/353 [==============================] - 0s 1ms/step - loss: 0.9809\n",
            "Epoch 103/250\n",
            "353/353 [==============================] - 0s 1ms/step - loss: 0.9421\n",
            "Epoch 104/250\n",
            "353/353 [==============================] - 0s 1ms/step - loss: 0.9718\n",
            "Epoch 105/250\n",
            "353/353 [==============================] - 1s 2ms/step - loss: 0.9511\n",
            "Epoch 106/250\n",
            "353/353 [==============================] - 0s 1ms/step - loss: 0.9623\n",
            "Epoch 107/250\n",
            "353/353 [==============================] - 1s 1ms/step - loss: 0.9594\n",
            "Epoch 108/250\n",
            "353/353 [==============================] - 0s 1ms/step - loss: 0.9605\n",
            "Epoch 109/250\n",
            "353/353 [==============================] - 1s 1ms/step - loss: 0.9591\n",
            "Epoch 110/250\n",
            "353/353 [==============================] - 0s 1ms/step - loss: 0.9666\n",
            "Epoch 111/250\n",
            "353/353 [==============================] - 1s 1ms/step - loss: 0.9392\n",
            "Epoch 112/250\n",
            "353/353 [==============================] - 1s 1ms/step - loss: 0.9798\n",
            "Epoch 113/250\n",
            "353/353 [==============================] - 1s 1ms/step - loss: 0.9713\n",
            "Epoch 114/250\n",
            "353/353 [==============================] - 0s 1ms/step - loss: 0.9417\n",
            "Epoch 115/250\n",
            "353/353 [==============================] - 1s 1ms/step - loss: 0.9527\n",
            "Epoch 116/250\n",
            "353/353 [==============================] - 0s 1ms/step - loss: 0.9593\n",
            "Epoch 117/250\n",
            "353/353 [==============================] - 1s 1ms/step - loss: 0.9632\n",
            "Epoch 118/250\n",
            "353/353 [==============================] - 1s 1ms/step - loss: 0.9408\n",
            "Epoch 119/250\n",
            "353/353 [==============================] - 1s 1ms/step - loss: 0.9493\n",
            "Epoch 120/250\n",
            "353/353 [==============================] - 0s 1ms/step - loss: 0.9449\n",
            "Epoch 121/250\n",
            "353/353 [==============================] - 1s 1ms/step - loss: 0.9469\n",
            "Epoch 122/250\n",
            "353/353 [==============================] - 0s 1ms/step - loss: 0.9388\n",
            "Epoch 123/250\n",
            "353/353 [==============================] - 1s 1ms/step - loss: 0.9804\n",
            "Epoch 124/250\n",
            "353/353 [==============================] - 0s 1ms/step - loss: 0.9649\n",
            "Epoch 125/250\n",
            "353/353 [==============================] - 1s 1ms/step - loss: 0.9387\n",
            "Epoch 126/250\n",
            "353/353 [==============================] - 0s 1ms/step - loss: 0.9310\n",
            "Epoch 127/250\n",
            "353/353 [==============================] - 0s 1ms/step - loss: 0.9342\n",
            "Epoch 128/250\n",
            "353/353 [==============================] - 0s 1ms/step - loss: 0.9464\n",
            "Epoch 129/250\n",
            "353/353 [==============================] - 0s 1ms/step - loss: 0.9429\n",
            "Epoch 130/250\n",
            "353/353 [==============================] - 0s 1ms/step - loss: 0.9498\n",
            "Epoch 131/250\n",
            "353/353 [==============================] - 1s 1ms/step - loss: 0.9431\n",
            "Epoch 132/250\n",
            "353/353 [==============================] - 1s 1ms/step - loss: 0.9498\n",
            "Epoch 133/250\n",
            "353/353 [==============================] - 1s 1ms/step - loss: 0.9447\n",
            "Epoch 134/250\n",
            "353/353 [==============================] - 0s 1ms/step - loss: 0.9573\n",
            "Epoch 135/250\n",
            "353/353 [==============================] - 1s 1ms/step - loss: 0.9255\n",
            "Epoch 136/250\n",
            "353/353 [==============================] - 1s 1ms/step - loss: 0.9464\n",
            "Epoch 137/250\n",
            "353/353 [==============================] - 1s 1ms/step - loss: 0.9364\n",
            "Epoch 138/250\n",
            "353/353 [==============================] - 1s 1ms/step - loss: 0.9264\n",
            "Epoch 139/250\n",
            "353/353 [==============================] - 1s 1ms/step - loss: 0.9340\n",
            "Epoch 140/250\n",
            "353/353 [==============================] - 0s 1ms/step - loss: 0.9429\n",
            "Epoch 141/250\n",
            "353/353 [==============================] - 1s 1ms/step - loss: 0.9288\n",
            "Epoch 142/250\n",
            "353/353 [==============================] - 0s 1ms/step - loss: 0.9258\n",
            "Epoch 143/250\n",
            "353/353 [==============================] - 1s 2ms/step - loss: 0.9298\n",
            "Epoch 144/250\n",
            "353/353 [==============================] - 1s 2ms/step - loss: 0.9408\n",
            "Epoch 145/250\n",
            "353/353 [==============================] - 0s 1ms/step - loss: 0.9317\n",
            "Epoch 146/250\n",
            "353/353 [==============================] - 1s 1ms/step - loss: 0.9312\n",
            "Epoch 147/250\n",
            "353/353 [==============================] - 1s 1ms/step - loss: 0.9437\n",
            "Epoch 148/250\n",
            "353/353 [==============================] - 0s 1ms/step - loss: 0.9214\n",
            "Epoch 149/250\n",
            "353/353 [==============================] - 1s 1ms/step - loss: 0.9331\n",
            "Epoch 150/250\n",
            "353/353 [==============================] - 0s 1ms/step - loss: 0.9366\n",
            "Epoch 151/250\n",
            "353/353 [==============================] - 1s 1ms/step - loss: 0.9168\n",
            "Epoch 152/250\n",
            "353/353 [==============================] - 0s 1ms/step - loss: 0.9212\n",
            "Epoch 153/250\n",
            "353/353 [==============================] - 0s 1ms/step - loss: 0.9197\n",
            "Epoch 154/250\n",
            "353/353 [==============================] - 0s 1ms/step - loss: 0.9459\n",
            "Epoch 155/250\n",
            "353/353 [==============================] - 1s 1ms/step - loss: 0.9318\n",
            "Epoch 156/250\n",
            "353/353 [==============================] - 1s 1ms/step - loss: 0.9066\n",
            "Epoch 157/250\n",
            "353/353 [==============================] - 0s 1ms/step - loss: 0.9515\n",
            "Epoch 158/250\n",
            "353/353 [==============================] - 1s 1ms/step - loss: 0.9171\n",
            "Epoch 159/250\n",
            "353/353 [==============================] - 0s 1ms/step - loss: 0.9175\n",
            "Epoch 160/250\n",
            "353/353 [==============================] - 0s 1ms/step - loss: 0.9286\n",
            "Epoch 161/250\n",
            "353/353 [==============================] - 0s 1ms/step - loss: 0.9272\n",
            "Epoch 162/250\n",
            "353/353 [==============================] - 1s 1ms/step - loss: 0.9322\n",
            "Epoch 163/250\n",
            "353/353 [==============================] - 1s 3ms/step - loss: 0.9088\n",
            "Epoch 164/250\n",
            "353/353 [==============================] - 1s 2ms/step - loss: 0.9099\n",
            "Epoch 165/250\n",
            "353/353 [==============================] - 1s 2ms/step - loss: 0.9098\n",
            "Epoch 166/250\n",
            "353/353 [==============================] - 1s 1ms/step - loss: 0.9192\n",
            "Epoch 167/250\n",
            "353/353 [==============================] - 1s 1ms/step - loss: 0.9119\n",
            "Epoch 168/250\n",
            "353/353 [==============================] - 1s 1ms/step - loss: 0.9280\n",
            "Epoch 169/250\n",
            "353/353 [==============================] - 1s 1ms/step - loss: 0.9172\n",
            "Epoch 170/250\n",
            "353/353 [==============================] - 0s 1ms/step - loss: 0.9162\n",
            "Epoch 171/250\n",
            "353/353 [==============================] - 1s 1ms/step - loss: 0.9097\n",
            "Epoch 172/250\n",
            "353/353 [==============================] - 1s 1ms/step - loss: 0.9365\n",
            "Epoch 173/250\n",
            "353/353 [==============================] - 1s 1ms/step - loss: 0.9158\n",
            "Epoch 174/250\n",
            "353/353 [==============================] - 0s 1ms/step - loss: 0.9110\n",
            "Epoch 175/250\n",
            "353/353 [==============================] - 1s 1ms/step - loss: 0.9229\n",
            "Epoch 176/250\n",
            "353/353 [==============================] - 0s 1ms/step - loss: 0.9112\n",
            "Epoch 177/250\n",
            "353/353 [==============================] - 1s 1ms/step - loss: 0.9094\n",
            "Epoch 178/250\n",
            "353/353 [==============================] - 1s 1ms/step - loss: 0.9134\n",
            "Epoch 179/250\n",
            "353/353 [==============================] - 1s 1ms/step - loss: 0.9053\n",
            "Epoch 180/250\n",
            "353/353 [==============================] - 1s 1ms/step - loss: 0.9066\n",
            "Epoch 181/250\n",
            "353/353 [==============================] - 1s 1ms/step - loss: 0.9204\n",
            "Epoch 182/250\n",
            "353/353 [==============================] - 1s 1ms/step - loss: 0.9122\n",
            "Epoch 183/250\n",
            "353/353 [==============================] - 1s 1ms/step - loss: 0.9019\n",
            "Epoch 184/250\n",
            "353/353 [==============================] - 1s 1ms/step - loss: 0.9024\n",
            "Epoch 185/250\n",
            "353/353 [==============================] - 1s 1ms/step - loss: 0.8976\n",
            "Epoch 186/250\n",
            "353/353 [==============================] - 1s 1ms/step - loss: 0.9078\n",
            "Epoch 187/250\n",
            "353/353 [==============================] - 1s 1ms/step - loss: 0.9148\n",
            "Epoch 188/250\n",
            "353/353 [==============================] - 1s 1ms/step - loss: 0.9061\n",
            "Epoch 189/250\n",
            "353/353 [==============================] - 1s 1ms/step - loss: 0.9048\n",
            "Epoch 190/250\n",
            "353/353 [==============================] - 1s 1ms/step - loss: 0.8954\n",
            "Epoch 191/250\n",
            "353/353 [==============================] - 1s 1ms/step - loss: 0.9105\n",
            "Epoch 192/250\n",
            "353/353 [==============================] - 1s 1ms/step - loss: 0.9118\n",
            "Epoch 193/250\n",
            "353/353 [==============================] - 1s 1ms/step - loss: 0.8951\n",
            "Epoch 194/250\n",
            "353/353 [==============================] - 1s 1ms/step - loss: 0.8900\n",
            "Epoch 195/250\n",
            "353/353 [==============================] - 0s 1ms/step - loss: 0.8929\n",
            "Epoch 196/250\n",
            "353/353 [==============================] - 1s 1ms/step - loss: 0.9004\n",
            "Epoch 197/250\n",
            "353/353 [==============================] - 1s 2ms/step - loss: 0.8903\n",
            "Epoch 198/250\n",
            "353/353 [==============================] - 1s 1ms/step - loss: 0.9013\n",
            "Epoch 199/250\n",
            "353/353 [==============================] - 1s 1ms/step - loss: 0.8911\n",
            "Epoch 200/250\n",
            "353/353 [==============================] - 1s 2ms/step - loss: 0.8918\n",
            "Epoch 201/250\n",
            "353/353 [==============================] - 1s 1ms/step - loss: 0.9013\n",
            "Epoch 202/250\n",
            "353/353 [==============================] - 1s 1ms/step - loss: 0.8979\n",
            "Epoch 203/250\n",
            "353/353 [==============================] - 1s 1ms/step - loss: 0.8848\n",
            "Epoch 204/250\n",
            "353/353 [==============================] - 1s 1ms/step - loss: 0.9022\n",
            "Epoch 205/250\n",
            "353/353 [==============================] - 1s 1ms/step - loss: 0.8929\n",
            "Epoch 206/250\n",
            "353/353 [==============================] - 1s 1ms/step - loss: 0.8886\n",
            "Epoch 207/250\n",
            "353/353 [==============================] - 1s 1ms/step - loss: 0.9050\n",
            "Epoch 208/250\n",
            "353/353 [==============================] - 1s 1ms/step - loss: 0.8921\n",
            "Epoch 209/250\n",
            "353/353 [==============================] - 1s 1ms/step - loss: 0.8933\n",
            "Epoch 210/250\n",
            "353/353 [==============================] - 1s 1ms/step - loss: 0.8932\n",
            "Epoch 211/250\n",
            "353/353 [==============================] - 1s 1ms/step - loss: 0.8993\n",
            "Epoch 212/250\n",
            "353/353 [==============================] - 1s 2ms/step - loss: 0.8647\n",
            "Epoch 213/250\n",
            "353/353 [==============================] - 1s 1ms/step - loss: 0.9028\n",
            "Epoch 214/250\n",
            "353/353 [==============================] - 1s 2ms/step - loss: 0.8750\n",
            "Epoch 215/250\n",
            "353/353 [==============================] - 1s 2ms/step - loss: 0.8991\n",
            "Epoch 216/250\n",
            "353/353 [==============================] - 1s 1ms/step - loss: 0.8852\n",
            "Epoch 217/250\n",
            "353/353 [==============================] - 1s 2ms/step - loss: 0.8815\n",
            "Epoch 218/250\n",
            "353/353 [==============================] - 1s 2ms/step - loss: 0.8689\n",
            "Epoch 219/250\n",
            "353/353 [==============================] - 1s 2ms/step - loss: 0.8801\n",
            "Epoch 220/250\n",
            "353/353 [==============================] - 1s 2ms/step - loss: 0.8738\n",
            "Epoch 221/250\n",
            "353/353 [==============================] - 1s 2ms/step - loss: 0.8783\n",
            "Epoch 222/250\n",
            "353/353 [==============================] - 1s 2ms/step - loss: 0.8723\n",
            "Epoch 223/250\n",
            "353/353 [==============================] - 1s 3ms/step - loss: 0.8843\n",
            "Epoch 224/250\n",
            "353/353 [==============================] - 1s 2ms/step - loss: 0.8853\n",
            "Epoch 225/250\n",
            "353/353 [==============================] - 1s 2ms/step - loss: 0.8923\n",
            "Epoch 226/250\n",
            "353/353 [==============================] - 1s 2ms/step - loss: 0.8927\n",
            "Epoch 227/250\n",
            "353/353 [==============================] - 1s 2ms/step - loss: 0.8819\n",
            "Epoch 228/250\n",
            "353/353 [==============================] - 1s 2ms/step - loss: 0.8874\n",
            "Epoch 229/250\n",
            "353/353 [==============================] - 1s 2ms/step - loss: 0.8789\n",
            "Epoch 230/250\n",
            "353/353 [==============================] - 1s 2ms/step - loss: 0.8819\n",
            "Epoch 231/250\n",
            "353/353 [==============================] - 1s 2ms/step - loss: 0.8778\n",
            "Epoch 232/250\n",
            "353/353 [==============================] - 1s 2ms/step - loss: 0.8886\n",
            "Epoch 233/250\n",
            "353/353 [==============================] - 1s 2ms/step - loss: 0.8707\n",
            "Epoch 234/250\n",
            "353/353 [==============================] - 1s 2ms/step - loss: 0.8830\n",
            "Epoch 235/250\n",
            "353/353 [==============================] - 1s 2ms/step - loss: 0.8838\n",
            "Epoch 236/250\n",
            "353/353 [==============================] - 1s 2ms/step - loss: 0.8958\n",
            "Epoch 237/250\n",
            "353/353 [==============================] - 1s 2ms/step - loss: 0.8738\n",
            "Epoch 238/250\n",
            "353/353 [==============================] - 1s 1ms/step - loss: 0.8618\n",
            "Epoch 239/250\n",
            "353/353 [==============================] - 1s 2ms/step - loss: 0.8759\n",
            "Epoch 240/250\n",
            "353/353 [==============================] - 1s 2ms/step - loss: 0.8700\n",
            "Epoch 241/250\n",
            "353/353 [==============================] - 1s 2ms/step - loss: 0.8703\n",
            "Epoch 242/250\n",
            "353/353 [==============================] - 1s 2ms/step - loss: 0.8893\n",
            "Epoch 243/250\n",
            "353/353 [==============================] - 1s 2ms/step - loss: 0.8662\n",
            "Epoch 244/250\n",
            "353/353 [==============================] - 1s 2ms/step - loss: 0.8628\n",
            "Epoch 245/250\n",
            "353/353 [==============================] - 1s 2ms/step - loss: 0.8784\n",
            "Epoch 246/250\n",
            "353/353 [==============================] - 1s 2ms/step - loss: 0.8744\n",
            "Epoch 247/250\n",
            "353/353 [==============================] - 1s 2ms/step - loss: 0.8667\n",
            "Epoch 248/250\n",
            "353/353 [==============================] - 1s 2ms/step - loss: 0.8852\n",
            "Epoch 249/250\n",
            "353/353 [==============================] - 1s 2ms/step - loss: 0.8714\n",
            "Epoch 250/250\n",
            "353/353 [==============================] - 1s 2ms/step - loss: 0.8753\n"
          ]
        },
        {
          "output_type": "execute_result",
          "data": {
            "text/plain": [
              "<keras.callbacks.History at 0x7f37112a0970>"
            ]
          },
          "metadata": {},
          "execution_count": 22
        }
      ]
    },
    {
      "cell_type": "code",
      "source": [
        "%matplotlib inline\n",
        "import matplotlib as plot\n",
        "model_loss = pd.DataFrame(model.history.history)\n",
        "model_loss.plot()"
      ],
      "metadata": {
        "colab": {
          "base_uri": "https://localhost:8080/",
          "height": 282
        },
        "id": "_w9Zw-O43_91",
        "outputId": "c4ae1c35-8253-42a2-8271-025d48973938"
      },
      "execution_count": 23,
      "outputs": [
        {
          "output_type": "execute_result",
          "data": {
            "text/plain": [
              "<matplotlib.axes._subplots.AxesSubplot at 0x7f370cefbfd0>"
            ]
          },
          "metadata": {},
          "execution_count": 23
        },
        {
          "output_type": "display_data",
          "data": {
            "text/plain": [
              "<Figure size 432x288 with 1 Axes>"
            ],
            "image/png": "[encoded data removed]"
          },
          "metadata": {
            "needs_background": "light"
          }
        }
      ]
    },
    {
      "cell_type": "code",
      "source": [
        "pred = model.predict(x_test)\n",
        "pred"
      ],
      "metadata": {
        "colab": {
          "base_uri": "https://localhost:8080/"
        },
        "id": "MzUPhdAY4oL-",
        "outputId": "1749695e-1586-48a3-8440-7b0b43f0447a"
      },
      "execution_count": 24,
      "outputs": [
        {
          "output_type": "stream",
          "name": "stdout",
          "text": [
            "118/118 [==============================] - 1s 2ms/step\n"
          ]
        },
        {
          "output_type": "execute_result",
          "data": {
            "text/plain": [
              "array([[132.7916  ],\n",
              "       [134.27821 ],\n",
              "       [111.42467 ],\n",
              "       ...,\n",
              "       [160.83888 ],\n",
              "       [104.810616],\n",
              "       [133.17957 ]], dtype=float32)"
            ]
          },
          "metadata": {},
          "execution_count": 24
        }
      ]
    },
    {
      "cell_type": "code",
      "source": [
        "pred = pred.ravel()"
      ],
      "metadata": {
        "id": "8jY7Q3F1AJDT"
      },
      "execution_count": 25,
      "outputs": []
    },
    {
      "cell_type": "code",
      "source": [
        "test_score = model.evaluate(x_test,y_test,verbose=0)\n",
        "test_score"
      ],
      "metadata": {
        "colab": {
          "base_uri": "https://localhost:8080/"
        },
        "id": "MnqeiEZiAQ3V",
        "outputId": "21caf686-a027-4b27-d79d-426d95058b0b"
      },
      "execution_count": 26,
      "outputs": [
        {
          "output_type": "execute_result",
          "data": {
            "text/plain": [
              "0.7061876654624939"
            ]
          },
          "metadata": {},
          "execution_count": 26
        }
      ]
    },
    {
      "cell_type": "code",
      "source": [
        "from sklearn.metrics import mean_absolute_error,mean_squared_error"
      ],
      "metadata": {
        "id": "hSbpc8NcASbQ"
      },
      "execution_count": 27,
      "outputs": []
    },
    {
      "cell_type": "code",
      "source": [
        "mean_absolute_error(pred,y_test)"
      ],
      "metadata": {
        "colab": {
          "base_uri": "https://localhost:8080/"
        },
        "id": "E8NisxxTAT8z",
        "outputId": "afd4848d-f139-49f1-c62c-cb8777b57909"
      },
      "execution_count": 28,
      "outputs": [
        {
          "output_type": "execute_result",
          "data": {
            "text/plain": [
              "0.632586330170327"
            ]
          },
          "metadata": {},
          "execution_count": 28
        }
      ]
    },
    {
      "cell_type": "code",
      "source": [
        "mean_squared_error(pred,y_test)"
      ],
      "metadata": {
        "colab": {
          "base_uri": "https://localhost:8080/"
        },
        "id": "7eZXTYwSAVhC",
        "outputId": "0152b4a6-5292-4ef2-e65f-640068b23d77"
      },
      "execution_count": 29,
      "outputs": [
        {
          "output_type": "execute_result",
          "data": {
            "text/plain": [
              "0.7061877735157519"
            ]
          },
          "metadata": {},
          "execution_count": 29
        }
      ]
    },
    {
      "cell_type": "code",
      "source": [
        "import matplotlib.pyplot as plt"
      ],
      "metadata": {
        "id": "UT6jwgLRAWtu"
      },
      "execution_count": 30,
      "outputs": []
    },
    {
      "cell_type": "code",
      "source": [
        "plt.scatter(y_test,pred)"
      ],
      "metadata": {
        "colab": {
          "base_uri": "https://localhost:8080/",
          "height": 282
        },
        "id": "s5mKyFfvAX-D",
        "outputId": "01ccbd6e-6063-4f00-c496-ee77d18f8b3e"
      },
      "execution_count": 31,
      "outputs": [
        {
          "output_type": "execute_result",
          "data": {
            "text/plain": [
              "<matplotlib.collections.PathCollection at 0x7f370b71fbb0>"
            ]
          },
          "metadata": {},
          "execution_count": 31
        },
        {
          "output_type": "display_data",
          "data": {
            "text/plain": [
              "<Figure size 432x288 with 1 Axes>"
            ],
            "image/png": "[encoded data removed]"
          },
          "metadata": {
            "needs_background": "light"
          }
        }
      ]
    },
    {
      "cell_type": "markdown",
      "source": [
        "## END "
      ],
      "metadata": {
        "id": "Ir0UhUBUAbLI"
      }
    },
    {
      "cell_type": "code",
      "source": [],
      "metadata": {
        "id": "960v5d_LAcQO"
      },
      "execution_count": null,
      "outputs": []
    }
  ]
}